{
  "nbformat": 4,
  "nbformat_minor": 0,
  "metadata": {
    "colab": {
      "name": "Preparação_Dados_2.ipynb",
      "provenance": [],
      "collapsed_sections": [],
      "toc_visible": true,
      "machine_shape": "hm"
    },
    "kernelspec": {
      "display_name": "Python 3",
      "name": "python3"
    }
  },
  "cells": [
    {
      "cell_type": "markdown",
      "metadata": {
        "id": "MFUF1aZWhupr"
      },
      "source": [
        "## Ideia"
      ]
    },
    {
      "cell_type": "markdown",
      "metadata": {
        "id": "y_3knisGhyhX"
      },
      "source": [
        "Este notebook tem o intuito de pegar os dados disponibilizados neste [google drive](https://drive.google.com/drive/folders/1DrEowqNixud3IlHMO6YTgZqQ2PvgvTpk?usp=sharing) que foi adquirido apos a execução do script neste [github](https://github.com/arthurtorres/Projetos/tree/master/INEP/Criacao_Dados) e transforma-lo num dataset úúnico, cujo a análise seja simploria. Foi escolhido o notebook porque se trata de um dataset de 100MM de linhas, e o computador local que possuo não consegue computar todos os dados."
      ]
    },
    {
      "cell_type": "markdown",
      "metadata": {
        "id": "7UGga7dh9ub4"
      },
      "source": [
        "#### Importando Bibliotecas"
      ]
    },
    {
      "cell_type": "code",
      "metadata": {
        "id": "UogkslEYT5RP",
        "colab": {
          "base_uri": "https://localhost:8080/"
        },
        "outputId": "bce044af-2876-47bc-bc8a-99c6dca2efa5"
      },
      "source": [
        "import sys\n",
        "!!{sys.executable} -m pip install dask[dataframe]\n",
        "!{sys.executable} -m pip install pyarrow\n",
        "!{sys.executable} -m pip install fastparquet\n"
      ],
      "execution_count": 1,
      "outputs": [
        {
          "output_type": "stream",
          "text": [
            "Requirement already satisfied: pyarrow in /usr/local/lib/python3.6/dist-packages (0.14.1)\n",
            "Requirement already satisfied: numpy>=1.14 in /usr/local/lib/python3.6/dist-packages (from pyarrow) (1.19.4)\n",
            "Requirement already satisfied: six>=1.0.0 in /usr/local/lib/python3.6/dist-packages (from pyarrow) (1.15.0)\n",
            "Requirement already satisfied: fastparquet in /usr/local/lib/python3.6/dist-packages (0.5.0)\n",
            "Requirement already satisfied: numpy>=1.11 in /usr/local/lib/python3.6/dist-packages (from fastparquet) (1.19.4)\n",
            "Requirement already satisfied: pandas>=1.1.0 in /usr/local/lib/python3.6/dist-packages (from fastparquet) (1.1.5)\n",
            "Requirement already satisfied: numba>=0.49 in /usr/local/lib/python3.6/dist-packages (from fastparquet) (0.52.0)\n",
            "Requirement already satisfied: thrift>=0.11.0 in /usr/local/lib/python3.6/dist-packages (from fastparquet) (0.13.0)\n",
            "Requirement already satisfied: python-dateutil>=2.7.3 in /usr/local/lib/python3.6/dist-packages (from pandas>=1.1.0->fastparquet) (2.8.1)\n",
            "Requirement already satisfied: pytz>=2017.2 in /usr/local/lib/python3.6/dist-packages (from pandas>=1.1.0->fastparquet) (2018.9)\n",
            "Requirement already satisfied: llvmlite<0.36,>=0.35.0 in /usr/local/lib/python3.6/dist-packages (from numba>=0.49->fastparquet) (0.35.0)\n",
            "Requirement already satisfied: setuptools in /usr/local/lib/python3.6/dist-packages (from numba>=0.49->fastparquet) (51.0.0)\n",
            "Requirement already satisfied: six>=1.7.2 in /usr/local/lib/python3.6/dist-packages (from thrift>=0.11.0->fastparquet) (1.15.0)\n"
          ],
          "name": "stdout"
        }
      ]
    },
    {
      "cell_type": "code",
      "metadata": {
        "id": "_h3KlDrCNLF1"
      },
      "source": [
        "\n",
        "\n",
        "\n",
        "\n",
        "import dask.dataframe as dd\n",
        "import pandas as pd\n",
        "\n",
        "import numpy as np"
      ],
      "execution_count": 2,
      "outputs": []
    },
    {
      "cell_type": "markdown",
      "metadata": {
        "id": "RbOcqioVWbg-"
      },
      "source": [
        "##Carregando os dados\n"
      ]
    },
    {
      "cell_type": "markdown",
      "metadata": {
        "id": "FokyuP-zWgLr"
      },
      "source": [
        "Os dados estão armazenados no meu google drive, então usarei o seguitne codigo para carregar os dados :"
      ]
    },
    {
      "cell_type": "code",
      "metadata": {
        "colab": {
          "base_uri": "https://localhost:8080/"
        },
        "id": "CZohDjqmWwvx",
        "outputId": "7a72c8f0-c0e8-466a-a53e-dfda49480bdb"
      },
      "source": [
        "from google.colab import drive\n",
        "drive.mount('/content/drive')"
      ],
      "execution_count": 3,
      "outputs": [
        {
          "output_type": "stream",
          "text": [
            "Drive already mounted at /content/drive; to attempt to forcibly remount, call drive.mount(\"/content/drive\", force_remount=True).\n"
          ],
          "name": "stdout"
        }
      ]
    },
    {
      "cell_type": "code",
      "metadata": {
        "id": "f59YWj0pUpc6"
      },
      "source": [
        "folderAluno =\"/content/drive/MyDrive/Dados_INEP/Aluno.csv/*\"\n",
        "folderCurso = \"/content/drive/MyDrive/Dados_INEP/Curso.csv/*\"\n",
        "folderIES = \"/content/drive/MyDrive/Dados_INEP/IES.csv/*\"\n",
        "\n",
        "dataAluno = dd.read_csv(folderAluno,encoding =\"ISO-8859-1\",dtype={'CO_ALUNO': 'object'})\n",
        "dataCurso = dd.read_csv(folderCurso,encoding =\"ISO-8859-1\")\n",
        "dataIES = dd.read_csv(folderIES,encoding =\"ISO-8859-1\")\n"
      ],
      "execution_count": 4,
      "outputs": []
    },
    {
      "cell_type": "markdown",
      "metadata": {
        "id": "k4gRp5ueXmUp"
      },
      "source": [
        "Temos muitos dados repetidos em alunos, pois temos cerca de 100MM de entrada e isto não refleta a população no ensino superior, vamos então remover duplicadas deste dataset"
      ]
    },
    {
      "cell_type": "code",
      "metadata": {
        "colab": {
          "base_uri": "https://localhost:8080/"
        },
        "id": "Dm7ZUY7zX0G9",
        "outputId": "fea62630-ad35-4d44-b798-0fa2c17bcb57"
      },
      "source": [
        "print(f'O Dataset antes da remoção de duplicatas tinha {len(dataAluno)} linhas')\n",
        "print(\"Fazendo a Limpeza\")\n",
        "dataAluno = dataAluno.drop_duplicates(\"CO_ALUNO\")\n",
        "print(f'O dataset apos a remoção de duplicas tem {len(dataAluno)} linhas')\n",
        "dataAluno = dataAluno.compute()"
      ],
      "execution_count": 5,
      "outputs": [
        {
          "output_type": "stream",
          "text": [
            "O Dataset antes da remoção de duplicatas tinha 113190205 linhas\n",
            "Fazendo a Limpeza\n",
            "O dataset apos a remoção de duplicas tem 44261224 linhas\n"
          ],
          "name": "stdout"
        }
      ]
    },
    {
      "cell_type": "markdown",
      "metadata": {
        "id": "8OoS8t7RO65_"
      },
      "source": [
        "# Juntando os datasets e fazendo uma pré limpeza\n"
      ]
    },
    {
      "cell_type": "markdown",
      "metadata": {
        "id": "pxsYDTldYV9a"
      },
      "source": [
        "Vamos olhar o início dos nossos datasets"
      ]
    },
    {
      "cell_type": "code",
      "metadata": {
        "colab": {
          "base_uri": "https://localhost:8080/"
        },
        "id": "GSGTCAuqdXZG",
        "outputId": "994831b5-1f3a-438c-d4ed-db021a7cd9b4"
      },
      "source": [
        "print(dataAluno.head())\n",
        "print(dataCurso.head())\n",
        "print(dataIES.head())"
      ],
      "execution_count": 6,
      "outputs": [
        {
          "output_type": "stream",
          "text": [
            "   CO_IES      CO_ALUNO  Cat_Adm  ...  Cota_Racial  Apoio_Social   Ano\n",
            "0     780  400000004203        4  ...        False         False  2009\n",
            "1     570  400000004213        1  ...        False         False  2009\n",
            "2     316  400000004239        4  ...        False         False  2009\n",
            "3     670  400000004262        6  ...        False         False  2009\n",
            "4    1131  400000004269        4  ...        False         False  2009\n",
            "\n",
            "[5 rows x 10 columns]\n",
            "   CO_CURSO            NO_CURSO\n",
            "0     10394          ENFERMAGEM\n",
            "1      5615             DIREITO\n",
            "2      5618              LETRAS\n",
            "3     18064            HISTORIA\n",
            "4      5625  ENGENHARIA QUIMICA\n",
            "   CO_IES  ... IN_CAPITAL_IES\n",
            "0     699  ...              1\n",
            "1    1028  ...              0\n",
            "2    1189  ...              0\n",
            "3     275  ...              0\n",
            "4     580  ...              1\n",
            "\n",
            "[5 rows x 5 columns]\n"
          ],
          "name": "stdout"
        }
      ]
    },
    {
      "cell_type": "markdown",
      "metadata": {
        "id": "jp34EzpKkku1"
      },
      "source": [
        "Vemos que no dataset de Cursos e no dataAluno temos em ambos as variáveis CO_CURSO. Como Curso tem apenas duas colunas, podemos fazer um dicionário com estas colunas, fazer uma associação e colocar a coluna Curso no dataset Aluno. Vamos criar uma função para fazer isto pois pode ser úil futuramente."
      ]
    },
    {
      "cell_type": "code",
      "metadata": {
        "id": "dQP8kpNMlZp9"
      },
      "source": [
        "#@Criando a função\n",
        "def dictColuna(datasetvelho,datasetNovo,coluna1,coluna2,nomeNovaColuna) :\n",
        "  datax = datasetvelho.set_index(coluna1).to_dict()[coluna2]\n",
        "  a = datasetNovo[coluna1].map(datax)\n",
        "  datasetNovo[nomeNovaColuna] = a\n",
        "  "
      ],
      "execution_count": 7,
      "outputs": []
    },
    {
      "cell_type": "code",
      "metadata": {
        "id": "s09We4kKlMom"
      },
      "source": [
        "datafinal = dataAluno.copy()"
      ],
      "execution_count": 8,
      "outputs": []
    },
    {
      "cell_type": "code",
      "metadata": {
        "id": "yFRnKHvu8PuO"
      },
      "source": [
        "dataCursoLimpo = dataCurso.compute()"
      ],
      "execution_count": 9,
      "outputs": []
    },
    {
      "cell_type": "markdown",
      "metadata": {
        "id": "wCy8N60-mLUz"
      },
      "source": [
        "Aplicando a função"
      ]
    },
    {
      "cell_type": "code",
      "metadata": {
        "id": "l1ZJbeu1YZMx"
      },
      "source": [
        "dictColuna(dataCursoLimpo,datafinal,\"CO_CURSO\",\"NO_CURSO\",\"Nome_Curso\")\n",
        "\n"
      ],
      "execution_count": 10,
      "outputs": []
    },
    {
      "cell_type": "markdown",
      "metadata": {
        "id": "EZDZri5D-dJg"
      },
      "source": [
        "Vendo o resutlado :"
      ]
    },
    {
      "cell_type": "code",
      "metadata": {
        "colab": {
          "base_uri": "https://localhost:8080/",
          "height": 0
        },
        "id": "V9FDYCz8-UNu",
        "outputId": "6ccaf3e5-beee-4bc8-fae3-bb2d23d3f635"
      },
      "source": [
        "datafinal.head()"
      ],
      "execution_count": 11,
      "outputs": [
        {
          "output_type": "execute_result",
          "data": {
            "text/html": [
              "<div>\n",
              "<style scoped>\n",
              "    .dataframe tbody tr th:only-of-type {\n",
              "        vertical-align: middle;\n",
              "    }\n",
              "\n",
              "    .dataframe tbody tr th {\n",
              "        vertical-align: top;\n",
              "    }\n",
              "\n",
              "    .dataframe thead th {\n",
              "        text-align: right;\n",
              "    }\n",
              "</style>\n",
              "<table border=\"1\" class=\"dataframe\">\n",
              "  <thead>\n",
              "    <tr style=\"text-align: right;\">\n",
              "      <th></th>\n",
              "      <th>CO_IES</th>\n",
              "      <th>CO_ALUNO</th>\n",
              "      <th>Cat_Adm</th>\n",
              "      <th>CO_CURSO</th>\n",
              "      <th>Nivel_Aca</th>\n",
              "      <th>Cor/Raca</th>\n",
              "      <th>Genero</th>\n",
              "      <th>Cota_Racial</th>\n",
              "      <th>Apoio_Social</th>\n",
              "      <th>Ano</th>\n",
              "      <th>Nome_Curso</th>\n",
              "    </tr>\n",
              "  </thead>\n",
              "  <tbody>\n",
              "    <tr>\n",
              "      <th>0</th>\n",
              "      <td>780</td>\n",
              "      <td>400000004203</td>\n",
              "      <td>4</td>\n",
              "      <td>18471</td>\n",
              "      <td>1</td>\n",
              "      <td>2</td>\n",
              "      <td>1</td>\n",
              "      <td>False</td>\n",
              "      <td>False</td>\n",
              "      <td>2009</td>\n",
              "      <td>ARQUITETURA E URBANISMO</td>\n",
              "    </tr>\n",
              "    <tr>\n",
              "      <th>1</th>\n",
              "      <td>570</td>\n",
              "      <td>400000004213</td>\n",
              "      <td>1</td>\n",
              "      <td>40171</td>\n",
              "      <td>1</td>\n",
              "      <td>6</td>\n",
              "      <td>0</td>\n",
              "      <td>False</td>\n",
              "      <td>False</td>\n",
              "      <td>2009</td>\n",
              "      <td>ENGENHARIA DA COMPUTAÇÃO</td>\n",
              "    </tr>\n",
              "    <tr>\n",
              "      <th>2</th>\n",
              "      <td>316</td>\n",
              "      <td>400000004239</td>\n",
              "      <td>4</td>\n",
              "      <td>82227</td>\n",
              "      <td>1</td>\n",
              "      <td>0</td>\n",
              "      <td>1</td>\n",
              "      <td>False</td>\n",
              "      <td>False</td>\n",
              "      <td>2009</td>\n",
              "      <td>ODONTOLOGIA</td>\n",
              "    </tr>\n",
              "    <tr>\n",
              "      <th>3</th>\n",
              "      <td>670</td>\n",
              "      <td>400000004262</td>\n",
              "      <td>6</td>\n",
              "      <td>15474</td>\n",
              "      <td>1</td>\n",
              "      <td>6</td>\n",
              "      <td>0</td>\n",
              "      <td>False</td>\n",
              "      <td>False</td>\n",
              "      <td>2009</td>\n",
              "      <td>ADMINISTRAÇÃO</td>\n",
              "    </tr>\n",
              "    <tr>\n",
              "      <th>4</th>\n",
              "      <td>1131</td>\n",
              "      <td>400000004269</td>\n",
              "      <td>4</td>\n",
              "      <td>86830</td>\n",
              "      <td>1</td>\n",
              "      <td>1</td>\n",
              "      <td>1</td>\n",
              "      <td>False</td>\n",
              "      <td>False</td>\n",
              "      <td>2009</td>\n",
              "      <td>ENFERMAGEM</td>\n",
              "    </tr>\n",
              "  </tbody>\n",
              "</table>\n",
              "</div>"
            ],
            "text/plain": [
              "   CO_IES      CO_ALUNO  Cat_Adm  ...  Apoio_Social   Ano                Nome_Curso\n",
              "0     780  400000004203        4  ...         False  2009   ARQUITETURA E URBANISMO\n",
              "1     570  400000004213        1  ...         False  2009  ENGENHARIA DA COMPUTAÇÃO\n",
              "2     316  400000004239        4  ...         False  2009               ODONTOLOGIA\n",
              "3     670  400000004262        6  ...         False  2009             ADMINISTRAÇÃO\n",
              "4    1131  400000004269        4  ...         False  2009                ENFERMAGEM\n",
              "\n",
              "[5 rows x 11 columns]"
            ]
          },
          "metadata": {
            "tags": []
          },
          "execution_count": 11
        }
      ]
    },
    {
      "cell_type": "markdown",
      "metadata": {
        "id": "fUZ6U4_n-g0I"
      },
      "source": [
        "Vemos que foi adicionada uma coluna com o Curso. O Código funcionou bem, faremos parecido com os dados de IES"
      ]
    },
    {
      "cell_type": "markdown",
      "metadata": {
        "id": "zB1_IjAnvo_P"
      },
      "source": [
        "No dataset referente as IES, temos as variáveis CO_MUNICIPIO_IES e CO_UF_IES que são os códigos do IBGE para cidades e estados. O código sozinho não nos dá uma informação útil, vamos utilizar a função criada anteriormente com uma tabela de correlação, para transformar estes Códigos em Cidades e Estados que dão informação"
      ]
    },
    {
      "cell_type": "code",
      "metadata": {
        "id": "kvcNUSURwYWm"
      },
      "source": [
        "url = \"https://raw.githubusercontent.com/kelvins/Municipios-Brasileiros/main/csv/estados.csv\" #estados IBGE\n",
        "datasEstados = pd.read_csv(url,sep=\",\",usecols = [\"codigo_uf\",\"uf\"])\n",
        "url =  \"https://raw.githubusercontent.com/kelvins/Municipios-Brasileiros/main/csv/municipios.csv\" #municipios\n",
        "datasMunicipios = pd.read_csv(url,sep = \",\", usecols = [\"codigo_ibge\",\"nome\"])\n",
        "datasEstados.columns = [\"CO_UF_IES\",\"uf\"]\n",
        "datasMunicipios.columns = [\"CO_MUNICIPIO_IES\",\"cidade\"]\n",
        "\n"
      ],
      "execution_count": 12,
      "outputs": []
    },
    {
      "cell_type": "markdown",
      "metadata": {
        "id": "Gvw0AcaJwrk0"
      },
      "source": [
        "Utilizando o código para os estados e municipios"
      ]
    },
    {
      "cell_type": "code",
      "metadata": {
        "id": "bGNedwI0wePN"
      },
      "source": [
        "dictColuna(datasEstados,dataIES,\"CO_UF_IES\",\"uf\",\"UF\")\n",
        "dictColuna(datasMunicipios,dataIES,\"CO_MUNICIPIO_IES\",\"cidade\",\"Cidade\")\n"
      ],
      "execution_count": 13,
      "outputs": []
    },
    {
      "cell_type": "code",
      "metadata": {
        "colab": {
          "base_uri": "https://localhost:8080/",
          "height": 0
        },
        "id": "rjfkSv2s-3oE",
        "outputId": "c658627b-e759-46fa-ee4d-848b4d180dfc"
      },
      "source": [
        "dataIES.head()"
      ],
      "execution_count": 14,
      "outputs": [
        {
          "output_type": "execute_result",
          "data": {
            "text/html": [
              "<div>\n",
              "<style scoped>\n",
              "    .dataframe tbody tr th:only-of-type {\n",
              "        vertical-align: middle;\n",
              "    }\n",
              "\n",
              "    .dataframe tbody tr th {\n",
              "        vertical-align: top;\n",
              "    }\n",
              "\n",
              "    .dataframe thead th {\n",
              "        text-align: right;\n",
              "    }\n",
              "</style>\n",
              "<table border=\"1\" class=\"dataframe\">\n",
              "  <thead>\n",
              "    <tr style=\"text-align: right;\">\n",
              "      <th></th>\n",
              "      <th>CO_IES</th>\n",
              "      <th>NO_IES</th>\n",
              "      <th>CO_MUNICIPIO_IES</th>\n",
              "      <th>CO_UF_IES</th>\n",
              "      <th>IN_CAPITAL_IES</th>\n",
              "      <th>UF</th>\n",
              "      <th>Cidade</th>\n",
              "    </tr>\n",
              "  </thead>\n",
              "  <tbody>\n",
              "    <tr>\n",
              "      <th>0</th>\n",
              "      <td>699</td>\n",
              "      <td>FUNDACAO UNIVERSIDADE FEDERAL DE RONDONIA</td>\n",
              "      <td>1100205</td>\n",
              "      <td>11</td>\n",
              "      <td>1</td>\n",
              "      <td>RO</td>\n",
              "      <td>Porto Velho</td>\n",
              "    </tr>\n",
              "    <tr>\n",
              "      <th>1</th>\n",
              "      <td>1028</td>\n",
              "      <td>UNIVERSIDADE ESTADUAL DE MATO GROSSO DO SUL</td>\n",
              "      <td>5003702</td>\n",
              "      <td>50</td>\n",
              "      <td>0</td>\n",
              "      <td>MS</td>\n",
              "      <td>Dourados</td>\n",
              "    </tr>\n",
              "    <tr>\n",
              "      <th>2</th>\n",
              "      <td>1189</td>\n",
              "      <td>UNIVERSIDADE DO PLANALTO CATARINENSE</td>\n",
              "      <td>4209300</td>\n",
              "      <td>42</td>\n",
              "      <td>0</td>\n",
              "      <td>SC</td>\n",
              "      <td>Lages</td>\n",
              "    </tr>\n",
              "    <tr>\n",
              "      <th>3</th>\n",
              "      <td>275</td>\n",
              "      <td>UNIVERSIDADE DO VALE DO PARAIBA</td>\n",
              "      <td>3549904</td>\n",
              "      <td>35</td>\n",
              "      <td>0</td>\n",
              "      <td>SP</td>\n",
              "      <td>São José dos Campos</td>\n",
              "    </tr>\n",
              "    <tr>\n",
              "      <th>4</th>\n",
              "      <td>580</td>\n",
              "      <td>UNIVERSIDADE FEDERAL DE PERNAMBUCO</td>\n",
              "      <td>2611606</td>\n",
              "      <td>26</td>\n",
              "      <td>1</td>\n",
              "      <td>PE</td>\n",
              "      <td>Recife</td>\n",
              "    </tr>\n",
              "  </tbody>\n",
              "</table>\n",
              "</div>"
            ],
            "text/plain": [
              "   CO_IES                                       NO_IES  ...  UF               Cidade\n",
              "0     699    FUNDACAO UNIVERSIDADE FEDERAL DE RONDONIA  ...  RO          Porto Velho\n",
              "1    1028  UNIVERSIDADE ESTADUAL DE MATO GROSSO DO SUL  ...  MS             Dourados\n",
              "2    1189         UNIVERSIDADE DO PLANALTO CATARINENSE  ...  SC                Lages\n",
              "3     275              UNIVERSIDADE DO VALE DO PARAIBA  ...  SP  São José dos Campos\n",
              "4     580           UNIVERSIDADE FEDERAL DE PERNAMBUCO  ...  PE               Recife\n",
              "\n",
              "[5 rows x 7 columns]"
            ]
          },
          "metadata": {
            "tags": []
          },
          "execution_count": 14
        }
      ]
    },
    {
      "cell_type": "markdown",
      "metadata": {
        "id": "FtGruNu_ya0G"
      },
      "source": [
        "Com essas modificações, as colunas CO_UF_IES e CO_MUNICIPIO_IES não se tornam mais úteis, iremos dropá-las."
      ]
    },
    {
      "cell_type": "code",
      "metadata": {
        "id": "qFje7qS_yaCI"
      },
      "source": [
        "dataIESClean = dataIES.drop(columns = [\"CO_UF_IES\",\"CO_MUNICIPIO_IES\"])\n"
      ],
      "execution_count": 15,
      "outputs": []
    },
    {
      "cell_type": "markdown",
      "metadata": {
        "id": "MpFQI6v8y4P9"
      },
      "source": [
        "Semelhante ao Curso, temos que CO_IES aparece em ambos os datasets, tanto referente aos Institutos, quanto referente aos Alunos. Vamos utilizar nosso código de dicionário para juntar as informações relevantes.\n"
      ]
    },
    {
      "cell_type": "code",
      "metadata": {
        "id": "89GoMS0v_LKt"
      },
      "source": [
        "dataIESClean = dataIESClean.compute()"
      ],
      "execution_count": 16,
      "outputs": []
    },
    {
      "cell_type": "code",
      "metadata": {
        "colab": {
          "base_uri": "https://localhost:8080/",
          "height": 0
        },
        "id": "XJAXMssM_RGq",
        "outputId": "03fc1e22-1199-44a2-c2db-5a94498776e5"
      },
      "source": [
        "dataIESClean.head()"
      ],
      "execution_count": 17,
      "outputs": [
        {
          "output_type": "execute_result",
          "data": {
            "text/html": [
              "<div>\n",
              "<style scoped>\n",
              "    .dataframe tbody tr th:only-of-type {\n",
              "        vertical-align: middle;\n",
              "    }\n",
              "\n",
              "    .dataframe tbody tr th {\n",
              "        vertical-align: top;\n",
              "    }\n",
              "\n",
              "    .dataframe thead th {\n",
              "        text-align: right;\n",
              "    }\n",
              "</style>\n",
              "<table border=\"1\" class=\"dataframe\">\n",
              "  <thead>\n",
              "    <tr style=\"text-align: right;\">\n",
              "      <th></th>\n",
              "      <th>CO_IES</th>\n",
              "      <th>NO_IES</th>\n",
              "      <th>IN_CAPITAL_IES</th>\n",
              "      <th>UF</th>\n",
              "      <th>Cidade</th>\n",
              "    </tr>\n",
              "  </thead>\n",
              "  <tbody>\n",
              "    <tr>\n",
              "      <th>0</th>\n",
              "      <td>699</td>\n",
              "      <td>FUNDACAO UNIVERSIDADE FEDERAL DE RONDONIA</td>\n",
              "      <td>1</td>\n",
              "      <td>RO</td>\n",
              "      <td>Porto Velho</td>\n",
              "    </tr>\n",
              "    <tr>\n",
              "      <th>1</th>\n",
              "      <td>1028</td>\n",
              "      <td>UNIVERSIDADE ESTADUAL DE MATO GROSSO DO SUL</td>\n",
              "      <td>0</td>\n",
              "      <td>MS</td>\n",
              "      <td>Dourados</td>\n",
              "    </tr>\n",
              "    <tr>\n",
              "      <th>2</th>\n",
              "      <td>1189</td>\n",
              "      <td>UNIVERSIDADE DO PLANALTO CATARINENSE</td>\n",
              "      <td>0</td>\n",
              "      <td>SC</td>\n",
              "      <td>Lages</td>\n",
              "    </tr>\n",
              "    <tr>\n",
              "      <th>3</th>\n",
              "      <td>275</td>\n",
              "      <td>UNIVERSIDADE DO VALE DO PARAIBA</td>\n",
              "      <td>0</td>\n",
              "      <td>SP</td>\n",
              "      <td>São José dos Campos</td>\n",
              "    </tr>\n",
              "    <tr>\n",
              "      <th>4</th>\n",
              "      <td>580</td>\n",
              "      <td>UNIVERSIDADE FEDERAL DE PERNAMBUCO</td>\n",
              "      <td>1</td>\n",
              "      <td>PE</td>\n",
              "      <td>Recife</td>\n",
              "    </tr>\n",
              "  </tbody>\n",
              "</table>\n",
              "</div>"
            ],
            "text/plain": [
              "   CO_IES                                       NO_IES  ...  UF               Cidade\n",
              "0     699    FUNDACAO UNIVERSIDADE FEDERAL DE RONDONIA  ...  RO          Porto Velho\n",
              "1    1028  UNIVERSIDADE ESTADUAL DE MATO GROSSO DO SUL  ...  MS             Dourados\n",
              "2    1189         UNIVERSIDADE DO PLANALTO CATARINENSE  ...  SC                Lages\n",
              "3     275              UNIVERSIDADE DO VALE DO PARAIBA  ...  SP  São José dos Campos\n",
              "4     580           UNIVERSIDADE FEDERAL DE PERNAMBUCO  ...  PE               Recife\n",
              "\n",
              "[5 rows x 5 columns]"
            ]
          },
          "metadata": {
            "tags": []
          },
          "execution_count": 17
        }
      ]
    },
    {
      "cell_type": "code",
      "metadata": {
        "id": "hJhVk6rezQdu"
      },
      "source": [
        "colunasVelhas = [\"NO_IES\",\"Cidade\",\"UF\",\"IN_CAPITAL_IES\"]\n",
        "colunasNovas = [\"Nome_Instituição\",\"Municipio\",\"UF\",\"CAPITAL\"]\n",
        "for number in range(len(colunasVelhas)) :\n",
        "  dictColuna(dataIESClean,datafinal,\"CO_IES\",colunasVelhas[number],colunasNovas[number])\n",
        "\n"
      ],
      "execution_count": 18,
      "outputs": []
    },
    {
      "cell_type": "markdown",
      "metadata": {
        "id": "uM9SeEMi0FXs"
      },
      "source": [
        "Vamos olhar o dataset Resultante da junção dos datasets."
      ]
    },
    {
      "cell_type": "code",
      "metadata": {
        "colab": {
          "base_uri": "https://localhost:8080/",
          "height": 0
        },
        "id": "navyI6YC0Jls",
        "outputId": "f9218799-a25d-4a15-de2a-1a25611a10b2"
      },
      "source": [
        "datafinal.tail()\n"
      ],
      "execution_count": 19,
      "outputs": [
        {
          "output_type": "execute_result",
          "data": {
            "text/html": [
              "<div>\n",
              "<style scoped>\n",
              "    .dataframe tbody tr th:only-of-type {\n",
              "        vertical-align: middle;\n",
              "    }\n",
              "\n",
              "    .dataframe tbody tr th {\n",
              "        vertical-align: top;\n",
              "    }\n",
              "\n",
              "    .dataframe thead th {\n",
              "        text-align: right;\n",
              "    }\n",
              "</style>\n",
              "<table border=\"1\" class=\"dataframe\">\n",
              "  <thead>\n",
              "    <tr style=\"text-align: right;\">\n",
              "      <th></th>\n",
              "      <th>CO_IES</th>\n",
              "      <th>CO_ALUNO</th>\n",
              "      <th>Cat_Adm</th>\n",
              "      <th>CO_CURSO</th>\n",
              "      <th>Nivel_Aca</th>\n",
              "      <th>Cor/Raca</th>\n",
              "      <th>Genero</th>\n",
              "      <th>Cota_Racial</th>\n",
              "      <th>Apoio_Social</th>\n",
              "      <th>Ano</th>\n",
              "      <th>Nome_Curso</th>\n",
              "      <th>Nome_Instituição</th>\n",
              "      <th>Municipio</th>\n",
              "      <th>UF</th>\n",
              "      <th>CAPITAL</th>\n",
              "    </tr>\n",
              "  </thead>\n",
              "  <tbody>\n",
              "    <tr>\n",
              "      <th>30499</th>\n",
              "      <td>24672</td>\n",
              "      <td>1E16F5A689E600ED4D5DCB81941569F3</td>\n",
              "      <td>2</td>\n",
              "      <td>1496238</td>\n",
              "      <td>1</td>\n",
              "      <td>1</td>\n",
              "      <td>2</td>\n",
              "      <td>True</td>\n",
              "      <td>False</td>\n",
              "      <td>2019</td>\n",
              "      <td>ANÁLISE DE PROCESSOS AGROINDUSTRIAIS</td>\n",
              "      <td>FACULDADE DE TECNOLOGIA DE MATÃO</td>\n",
              "      <td>Matão</td>\n",
              "      <td>SP</td>\n",
              "      <td>0</td>\n",
              "    </tr>\n",
              "    <tr>\n",
              "      <th>30500</th>\n",
              "      <td>24672</td>\n",
              "      <td>4E9A800BDF87BFB4A8B19E7427418FA6</td>\n",
              "      <td>2</td>\n",
              "      <td>1496238</td>\n",
              "      <td>1</td>\n",
              "      <td>1</td>\n",
              "      <td>2</td>\n",
              "      <td>True</td>\n",
              "      <td>False</td>\n",
              "      <td>2019</td>\n",
              "      <td>ANÁLISE DE PROCESSOS AGROINDUSTRIAIS</td>\n",
              "      <td>FACULDADE DE TECNOLOGIA DE MATÃO</td>\n",
              "      <td>Matão</td>\n",
              "      <td>SP</td>\n",
              "      <td>0</td>\n",
              "    </tr>\n",
              "    <tr>\n",
              "      <th>30501</th>\n",
              "      <td>24672</td>\n",
              "      <td>9FD36BFE8F9635ADC07857278DA19DAA</td>\n",
              "      <td>2</td>\n",
              "      <td>1496238</td>\n",
              "      <td>1</td>\n",
              "      <td>3</td>\n",
              "      <td>2</td>\n",
              "      <td>True</td>\n",
              "      <td>False</td>\n",
              "      <td>2019</td>\n",
              "      <td>ANÁLISE DE PROCESSOS AGROINDUSTRIAIS</td>\n",
              "      <td>FACULDADE DE TECNOLOGIA DE MATÃO</td>\n",
              "      <td>Matão</td>\n",
              "      <td>SP</td>\n",
              "      <td>0</td>\n",
              "    </tr>\n",
              "    <tr>\n",
              "      <th>30502</th>\n",
              "      <td>24672</td>\n",
              "      <td>D2BFEAC6FFA445580A4417C6FF24F24F</td>\n",
              "      <td>2</td>\n",
              "      <td>1496238</td>\n",
              "      <td>1</td>\n",
              "      <td>1</td>\n",
              "      <td>1</td>\n",
              "      <td>True</td>\n",
              "      <td>False</td>\n",
              "      <td>2019</td>\n",
              "      <td>ANÁLISE DE PROCESSOS AGROINDUSTRIAIS</td>\n",
              "      <td>FACULDADE DE TECNOLOGIA DE MATÃO</td>\n",
              "      <td>Matão</td>\n",
              "      <td>SP</td>\n",
              "      <td>0</td>\n",
              "    </tr>\n",
              "    <tr>\n",
              "      <th>30503</th>\n",
              "      <td>24672</td>\n",
              "      <td>F6175BBC0F5B6E6D16012EEA177FDA6B</td>\n",
              "      <td>2</td>\n",
              "      <td>1496238</td>\n",
              "      <td>1</td>\n",
              "      <td>1</td>\n",
              "      <td>2</td>\n",
              "      <td>True</td>\n",
              "      <td>False</td>\n",
              "      <td>2019</td>\n",
              "      <td>ANÁLISE DE PROCESSOS AGROINDUSTRIAIS</td>\n",
              "      <td>FACULDADE DE TECNOLOGIA DE MATÃO</td>\n",
              "      <td>Matão</td>\n",
              "      <td>SP</td>\n",
              "      <td>0</td>\n",
              "    </tr>\n",
              "  </tbody>\n",
              "</table>\n",
              "</div>"
            ],
            "text/plain": [
              "       CO_IES                          CO_ALUNO  Cat_Adm  ...  Municipio  UF  CAPITAL\n",
              "30499   24672  1E16F5A689E600ED4D5DCB81941569F3        2  ...      Matão  SP        0\n",
              "30500   24672  4E9A800BDF87BFB4A8B19E7427418FA6        2  ...      Matão  SP        0\n",
              "30501   24672  9FD36BFE8F9635ADC07857278DA19DAA        2  ...      Matão  SP        0\n",
              "30502   24672  D2BFEAC6FFA445580A4417C6FF24F24F        2  ...      Matão  SP        0\n",
              "30503   24672  F6175BBC0F5B6E6D16012EEA177FDA6B        2  ...      Matão  SP        0\n",
              "\n",
              "[5 rows x 15 columns]"
            ]
          },
          "metadata": {
            "tags": []
          },
          "execution_count": 19
        }
      ]
    },
    {
      "cell_type": "markdown",
      "metadata": {
        "id": "KVq3XhmM_mCs"
      },
      "source": [
        "O dataset parece funcionar como o esperado, com todas as informações que queremos para nossa análise, que será feita em outro notebook.\n"
      ]
    },
    {
      "cell_type": "markdown",
      "metadata": {
        "id": "lSegIL4G_v6S"
      },
      "source": [
        "#Últimos Ajustes"
      ]
    },
    {
      "cell_type": "markdown",
      "metadata": {
        "id": "Tio4nPdu_yNN"
      },
      "source": [
        "Vamos ver os tipos de dados, e ver se podermos melhorar algum para ocupar menos espaço.\n"
      ]
    },
    {
      "cell_type": "code",
      "metadata": {
        "colab": {
          "base_uri": "https://localhost:8080/"
        },
        "id": "zsMOp0Sr_3g8",
        "outputId": "628c4c17-0c1c-4992-d424-9e3f0c5cec21"
      },
      "source": [
        "datafinal.info()"
      ],
      "execution_count": 20,
      "outputs": [
        {
          "output_type": "stream",
          "text": [
            "<class 'pandas.core.frame.DataFrame'>\n",
            "Int64Index: 44261224 entries, 0 to 30503\n",
            "Data columns (total 15 columns):\n",
            " #   Column            Dtype \n",
            "---  ------            ----- \n",
            " 0   CO_IES            int64 \n",
            " 1   CO_ALUNO          object\n",
            " 2   Cat_Adm           int64 \n",
            " 3   CO_CURSO          int64 \n",
            " 4   Nivel_Aca         int64 \n",
            " 5   Cor/Raca          int64 \n",
            " 6   Genero            int64 \n",
            " 7   Cota_Racial       bool  \n",
            " 8   Apoio_Social      bool  \n",
            " 9   Ano               int64 \n",
            " 10  Nome_Curso        object\n",
            " 11  Nome_Instituição  object\n",
            " 12  Municipio         object\n",
            " 13  UF                object\n",
            " 14  CAPITAL           int64 \n",
            "dtypes: bool(2), int64(8), object(5)\n",
            "memory usage: 4.7+ GB\n"
          ],
          "name": "stdout"
        }
      ]
    },
    {
      "cell_type": "markdown",
      "metadata": {
        "id": "C5O5GjlsAM04"
      },
      "source": [
        "Podemos retirar as variáveis referentes a códigos, pois temos os seus valores reais. Faremos isto para otimizar os espaços que os dados ocupam na memória.\n"
      ]
    },
    {
      "cell_type": "code",
      "metadata": {
        "id": "3IrDIe_yfF-9"
      },
      "source": [
        "data = datafinal.drop(columns = [\"CO_CURSO\",\"CO_IES\",\"CO_ALUNO\"])\n",
        "                      "
      ],
      "execution_count": 21,
      "outputs": []
    },
    {
      "cell_type": "code",
      "metadata": {
        "colab": {
          "base_uri": "https://localhost:8080/"
        },
        "id": "rZWB9hYufXgC",
        "outputId": "9fa0be11-46ca-4f79-b521-498a436b34a9"
      },
      "source": [
        "data.info()"
      ],
      "execution_count": 22,
      "outputs": [
        {
          "output_type": "stream",
          "text": [
            "<class 'pandas.core.frame.DataFrame'>\n",
            "Int64Index: 44261224 entries, 0 to 30503\n",
            "Data columns (total 12 columns):\n",
            " #   Column            Dtype \n",
            "---  ------            ----- \n",
            " 0   Cat_Adm           int64 \n",
            " 1   Nivel_Aca         int64 \n",
            " 2   Cor/Raca          int64 \n",
            " 3   Genero            int64 \n",
            " 4   Cota_Racial       bool  \n",
            " 5   Apoio_Social      bool  \n",
            " 6   Ano               int64 \n",
            " 7   Nome_Curso        object\n",
            " 8   Nome_Instituição  object\n",
            " 9   Municipio         object\n",
            " 10  UF                object\n",
            " 11  CAPITAL           int64 \n",
            "dtypes: bool(2), int64(6), object(4)\n",
            "memory usage: 3.7+ GB\n"
          ],
          "name": "stdout"
        }
      ]
    },
    {
      "cell_type": "markdown",
      "metadata": {
        "id": "-G2et1OLA1G9"
      },
      "source": [
        "Vemos que este dataset ia ocupar pelo menos 3,7 GB de memoria. Esta quantidade pode ser armazenada na maioria dos agregadores de dados atuais. Eu utilizarei o Google Drive para isto."
      ]
    },
    {
      "cell_type": "markdown",
      "metadata": {
        "id": "YBPnmdZHBTID"
      },
      "source": [
        "Criarei uma pasta com o nome dados_INEP_LIMPO e armazenarei o arquivo em csv, para diminuir ainda o espaço utilizado e facilitar exportações futuras alem de consumir pouca ram."
      ]
    },
    {
      "cell_type": "code",
      "metadata": {
        "id": "2lO5pf0pXXL6"
      },
      "source": [
        "data.to_csv(\"/content/drive/MyDrive/dados_INEP_LIMPO/dataClean.csv\",chunksize=  100000  ,encoding=\"ISO-8859-1\", index=False)"
      ],
      "execution_count": 23,
      "outputs": []
    },
    {
      "cell_type": "markdown",
      "metadata": {
        "id": "k66Pg2e7gUeT"
      },
      "source": [
        "Por Fim, vamos testar se os dados foram armazenados corretamente."
      ]
    },
    {
      "cell_type": "code",
      "metadata": {
        "colab": {
          "base_uri": "https://localhost:8080/"
        },
        "id": "NOo1s-XWgdju",
        "outputId": "a472f515-46d6-4ed9-a50b-64ef95879dca"
      },
      "source": [
        "ds = dd.read_csv(\"/content/drive/MyDrive/dados_INEP_LIMPO/dataClean.csv\",encoding=\"ISO-8859-1\")\n",
        "print(ds.head())\n",
        "print(f\"O   dataset contem : {len(ds)}  linhas\")\n"
      ],
      "execution_count": 24,
      "outputs": [
        {
          "output_type": "stream",
          "text": [
            "   Cat_Adm  Nivel_Aca  Cor/Raca  ...          Municipio  UF  CAPITAL\n",
            "0        4          1         2  ...             Cuiabá  MT        1\n",
            "1        1          1         6  ...              Natal  RN        1\n",
            "2        4          1         0  ...          São Paulo  SP        1\n",
            "3        6          1         6  ...  Bragança Paulista  SP        0\n",
            "4        4          1         1  ...           Teresina  PI        1\n",
            "\n",
            "[5 rows x 12 columns]\n",
            "O   dataset contem : 44261224  linhas\n"
          ],
          "name": "stdout"
        }
      ]
    },
    {
      "cell_type": "markdown",
      "metadata": {
        "id": "tfji6MpshNWk"
      },
      "source": [
        "Após esta preparação de dados, temos um dataset com os Alunos,seus respectivos cursos e suas instituições em um dataset de facil leitura. Vamos trabalhar nele em um notebook futuro. o Link para o notebook para uma análise aprofundada é [este](https://colab.research.google.com/drive/1uD0kRQE90Z8W4g0l4y0Vx_Tif5BN27bp?usp=sharing)\n"
      ]
    }
  ]
}